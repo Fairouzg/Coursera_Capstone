{
    "cells": [
        {
            "metadata": {
                "collapsed": true
            },
            "cell_type": "markdown",
            "source": "# The Battle of Neighborhoods: Opening a playground in Toronto\n\n## 1. Problem and discussion of the background:\n\nAccording to IBISWorld, a market research firm, increased disposable income and health awareness have greatly benefited the children\u2019s fitness center franchise industry, which includes indoor playgrounds(1). Parents, teachers and caretakers are working hard to combat childhood obesity, resulting in high demand for engaging playgrounds.\n\n\n(1): https://www.softplay.com/blog/starting-an-indoor-playground/#market-research-and-location\n\n![alt text](https://www.canadastartups.org/wp-content/uploads/2017/01/13626975.jpg)\nFig 1: Indoor Playground. Source https://www.canadastartups.org/tag/indoor-playground-business/\n\nMany start-ups are looking for new potential opportunities to open a new playground business in mature markets such as Toronto. The objective of this report is to use market data to find the optimal placement of a new playground business. A successful recommendation takes into consideration:\n\u2022\tThe demographic of the area\n\u2022\tThe population income\n\u2022\tThe competition location\n\u2022\tAnd the synergies with other businesses with high traffic areas such as malls which increases the need for having playground areas\n\n## 2. Data sources and how it will be used:\n\nTo complete this analysis, many sources of information are needed. The link to the source is listed when applicable below. All data was pulled during the execution of this analysis from Feb 20th to Feb 28th 2021.\n\n### 2.1\tSource 1: Demographic and income\n\nKnowing the customer\u2019s age and income is a good way to start this market analysis. The target customer of indoor playground is children with age range from 2 to 12. One way to find the demographic data for Toronto area is the 2015 Toronto Census open data that is publicly available from https://open.toronto.ca/dataset/neighbourhood-profiles/. \nThis census provides the total number of Children (0-14 years) ID 10 for each Toronto neighbourhood. \nConveniently, income information from 2015 census is available within the same source as well using \u201cTotal income: Average amount ($)\u201d Id 2273\n\n### 2.2\tSource 2: Where is the competition and the potential synergies with other businesses: Foursquare\n\nLocation is crucial to the success of an indoor playground business. Finding the competition and which location do they serve is very important. Also picking a location near a high traffic draw like a mall or shopping center will help bring in more foot traffic (1) The selected source of information for this data is Foursquare data to learn about the distribution of:\n\n\u2022\tPlayground (4bf58dd8d48988d1e7941735)\n\n\u2022\tShopping Mall (4bf58dd8d48988d1fd941735)\n\n\u2022\tShopping Plaza (5744ccdfe4b0c0459246b4dc)\n\n\n### 2.3\tSource 3: Geosphical Location data: Geopy library\n\nGeopy is a Python client for several popular geocoding web services. Geopy makes it easy to locate the coordinates of addresses, cities, countries, and landmarks across the globe, including Toronto Ontario, using third-party geocoders and other data sources.\nThe geospatial information will be used to locate all identified venues and neighborhoods using the longitude and latitude coordinates.\n\n### 2.4\tSource 4: Wikipedia: List of neighbourhoods in Toronto\n\nLink: https://en.wikipedia.org/wiki/List_of_neighbourhoods_in_Toronto\nFor administrative purposes, the City of Toronto divides the city into 140 neighbourhoods. These divisions are used for internal planning purposes. The boundaries and names often do not conform to the usage of the general population or designated business improvement areas. A number of neighbourhood maps of Toronto do exist, some produced by real estate firms and some by Internet portals. A project to map the neighbourhoods according to the common usage of the residents was done by the Toronto Star newspaper. Based on feedback from Star readers, it has produced the most comprehensive, albeit informal, neighbourhood map\n\n### 2.5\tSource 5: Toronto neighborhoods geojson\n\nVisualization is very powerful in conveying the results of this analysis. It is important to have the Toronto-geojson to superimpose the results on the top of Toronto map. The source of this information is the Toronto-geojson http://adamw523.com/toronto-geojson/\n\n\n"
        },
        {
            "metadata": {},
            "cell_type": "code",
            "source": "",
            "execution_count": null,
            "outputs": []
        }
    ],
    "metadata": {
        "kernelspec": {
            "name": "python3",
            "display_name": "Python 3.7",
            "language": "python"
        },
        "language_info": {
            "name": "python",
            "version": "3.7.9",
            "mimetype": "text/x-python",
            "codemirror_mode": {
                "name": "ipython",
                "version": 3
            },
            "pygments_lexer": "ipython3",
            "nbconvert_exporter": "python",
            "file_extension": ".py"
        }
    },
    "nbformat": 4,
    "nbformat_minor": 1
}